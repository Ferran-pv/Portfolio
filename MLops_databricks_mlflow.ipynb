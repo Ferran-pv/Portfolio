{
 "cells": [
  {
   "cell_type": "code",
   "execution_count": 0,
   "metadata": {
    "application/vnd.databricks.v1+cell": {
     "cellMetadata": {
      "byteLimit": 2048000,
      "rowLimit": 10000
     },
     "inputWidgets": {},
     "nuid": "ceeba1b8-5f71-439b-af63-b4078e310fee",
     "showTitle": false,
     "title": ""
    }
   },
   "outputs": [],
   "source": [
    "import pandas as pd\n",
    "from sklearn.model_selection import train_test_split\n",
    "from sklearn.metrics import accuracy_score\n",
    "import matplotlib.pyplot as plt\n",
    "import mlflow\n",
    "from mlflow.models import infer_signature\n",
    "import shap\n",
    "import xgboost\n",
    "\n",
    "# EXPERIMENT_ID = mlflow.create_experiment('/Users/fpaulsv@cirsa.com/MLflow_example')\n",
    "EXPERIMENT_ID = mlflow.set_experiment('/Users/fpaulsv@cirsa.com/MLflow_example').experiment_id"
   ]
  },
  {
   "cell_type": "code",
   "execution_count": 0,
   "metadata": {
    "application/vnd.databricks.v1+cell": {
     "cellMetadata": {
      "byteLimit": 2048000,
      "rowLimit": 10000
     },
     "inputWidgets": {},
     "nuid": "ac41ff0f-d502-4633-9129-0f3076c1dbbc",
     "showTitle": false,
     "title": ""
    }
   },
   "outputs": [
    {
     "output_type": "display_data",
     "data": {
      "application/vnd.jupyter.widget-view+json": {
       "model_id": "5286639e028e479d96dd2d5fd34cbcbf",
       "version_major": 2,
       "version_minor": 0
      },
      "text/plain": [
       "Uploading artifacts:   0%|          | 0/5 [00:00<?, ?it/s]"
      ]
     },
     "metadata": {},
     "output_type": "display_data"
    },
    {
     "output_type": "stream",
     "name": "stderr",
     "output_type": "stream",
     "text": [
      "Hint: Inferred schema contains integer column(s). Integer columns in Python cannot represent missing values. If your input data contains missing values at inference time, it will be encoded as floats and will cause a schema enforcement error. The best way to avoid this problem is to infer the model schema based on a realistic data sample (training dataset) that includes missing values. Alternatively, you can declare integer columns as doubles (float64) whenever these columns may have missing values. See `Handling Integers With Missing Values <https://www.mlflow.org/docs/latest/models.html#handling-integers-with-missing-values>`_ for more details.\n"
     ]
    }
   ],
   "source": [
    "X, y = shap.datasets.adult()\n",
    "X_train, X_test, y_train, y_test = train_test_split(X, y, test_size=0.33, random_state=42)\n",
    "model = xgboost.XGBClassifier().fit(X_train, y_train)\n",
    "predictions = model.predict(X_train)\n",
    "signature = infer_signature(X_train, predictions)\n",
    "eval_data = X_test.copy()\n",
    "eval_data[\"target\"] = y_test.copy()"
   ]
  },
  {
   "cell_type": "code",
   "execution_count": 0,
   "metadata": {
    "application/vnd.databricks.v1+cell": {
     "cellMetadata": {
      "byteLimit": 2048000,
      "rowLimit": 10000
     },
     "inputWidgets": {},
     "nuid": "a56acb5c-8bcc-4cc1-b698-3579bc060256",
     "showTitle": false,
     "title": ""
    }
   },
   "outputs": [
    {
     "output_type": "display_data",
     "data": {
      "application/vnd.jupyter.widget-view+json": {
       "model_id": "dc2b5359efc34a75824a355f193eb56b",
       "version_major": 2,
       "version_minor": 0
      },
      "text/plain": [
       "Uploading artifacts:   0%|          | 0/5 [00:00<?, ?it/s]"
      ]
     },
     "metadata": {},
     "output_type": "display_data"
    },
    {
     "output_type": "display_data",
     "data": {
      "application/vnd.jupyter.widget-view+json": {
       "model_id": "9540e2b2d9884493872ec57d574a5c92",
       "version_major": 2,
       "version_minor": 0
      },
      "text/plain": [
       "Downloading artifacts:   0%|          | 0/5 [00:00<?, ?it/s]"
      ]
     },
     "metadata": {},
     "output_type": "display_data"
    },
    {
     "output_type": "stream",
     "name": "stderr",
     "output_type": "stream",
     "text": [
      "Hint: Inferred schema contains integer column(s). Integer columns in Python cannot represent missing values. If your input data contains missing values at inference time, it will be encoded as floats and will cause a schema enforcement error. The best way to avoid this problem is to infer the model schema based on a realistic data sample (training dataset) that includes missing values. Alternatively, you can declare integer columns as doubles (float64) whenever these columns may have missing values. See `Handling Integers With Missing Values <https://www.mlflow.org/docs/latest/models.html#handling-integers-with-missing-values>`_ for more details.\n2024/01/16 11:38:13 INFO mlflow.models.evaluation.base: Evaluating the model with the default evaluator.\n2024/01/16 11:38:13 INFO mlflow.models.evaluation.default_evaluator: Computing model predictions.\n2024/01/16 11:38:13 INFO mlflow.models.evaluation.default_evaluator: The evaluation dataset is inferred as binary dataset, positive label is True, negative label is False.\n2024/01/16 11:38:13 INFO mlflow.models.evaluation.default_evaluator: Testing metrics on first row...\n2024/01/16 11:38:16 INFO mlflow.models.evaluation.default_evaluator: Shap explainer TreeExplainer is used.\n2024/01/16 11:38:22 WARNING mlflow.models.model: Model logged without a signature. Signatures will be required for upcoming model registry features as they validate model inputs and denote the expected schema of model outputs. Please visit https://www.mlflow.org/docs/2.8.1/models.html#set-signature-on-logged-model for instructions on setting a model signature on your logged model.\nUnable to serialize underlying model using MLflow, will use SHAP serialization\n2024/01/16 11:38:22 WARNING mlflow.models.evaluation.default_evaluator: Logging explainer failed. Reason: AttributeError(\"'TreeEnsemble' object has no attribute 'save'\"). Set logging level to DEBUG to see the full traceback.\n"
     ]
    },
    {
     "output_type": "display_data",
     "data": {
      "image/png": "[encoded data removed]",
      "text/plain": [
       "<Figure size 640x480 with 1 Axes>"
      ]
     },
     "metadata": {},
     "output_type": "display_data"
    }
   ],
   "source": [
    "#mlflow.autolog() # log_models: bool = True, log_datasets: bool = True\n",
    "with mlflow.start_run(experiment_id=EXPERIMENT_ID, run_name='ex4') as run:\n",
    "  mlflow.log_requirements()\n",
    "  model_info = mlflow.sklearn.log_model(model, \"model\", signature=signature)  \n",
    "  result = mlflow.evaluate( model_info.model_uri, eval_data,\n",
    "                            targets=\"target\", model_type= 'classifier', evaluators=[\"default\"])\n",
    "  #\n",
    "  y_pred_xgb = model.predict(X_test)\n",
    "  acc_knn = accuracy_score(y_test, y_pred_xgb)\n",
    "  mlflow.log_metric(\"test_accuracy_score\", acc_knn)\n",
    "  #\n",
    "  plt.plot(y_test - y_pred_xgb)\n",
    "  plt.savefig(\"residuals_plot.png\")\n",
    "  mlflow.log_artifact(\"residuals_plot.png\") "
   ]
  },
  {
   "cell_type": "code",
   "execution_count": 0,
   "metadata": {
    "application/vnd.databricks.v1+cell": {
     "cellMetadata": {
      "byteLimit": 2048000,
      "rowLimit": 10000
     },
     "inputWidgets": {},
     "nuid": "b96a9374-78f9-490c-9ba8-9cc408bf6499",
     "showTitle": false,
     "title": ""
    }
   },
   "outputs": [
    {
     "output_type": "stream",
     "name": "stdout",
     "output_type": "stream",
     "text": [
      "['metrics.test_accuracy_score', 'metrics.training_recall_score', 'metrics.training_precision_score', 'metrics.training_f1_score', 'metrics.training_score', 'metrics.training_roc_auc', 'metrics.accuracy_score_X_test', 'metrics.training_accuracy_score', 'metrics.training_log_loss']\n\n['params.metric_params', 'params.metric', 'params.n_jobs', 'params.algorithm', 'params.n_neighbors', 'params.p', 'params.leaf_size', 'params.weights']\n\n['tags.mlflow.databricks.cluster.id', 'tags.mlflow.databricks.notebookRevisionID', 'tags.mlflow.databricks.workspaceID', 'tags.mlflow.source.name', 'tags.mlflow.databricks.notebookPath', 'tags.mlflow.databricks.gitRepoReference', 'tags.mlflow.log-model.history', 'tags.mlflow.databricks.notebook.commandID', 'tags.mlflow.databricks.webappURL', 'tags.mlflow.source.type', 'tags.mlflow.databricks.cluster.libraries', 'tags.mlflow.databricks.gitRepoProvider', 'tags.mlflow.databricks.gitRepoCommit', 'tags.estimator_name', 'tags.mlflow.user', 'tags.mlflow.databricks.gitRepoRelativePath', 'tags.mlflow.databricks.workspaceURL', 'tags.mlflow.runName', 'tags.estimator_class', 'tags.mlflow.databricks.gitRepoReferenceType', 'tags.mlflow.databricks.cluster.info', 'tags.mlflow.databricks.notebookID', 'tags.mlflow.databricks.gitRepoStatus', 'tags.mlflow.databricks.gitRepoUrl']\n\n"
     ]
    },
    {
     "output_type": "execute_result",
     "data": {
      "text/html": [
       "<div>\n",
       "<style scoped>\n",
       "    .dataframe tbody tr th:only-of-type {\n",
       "        vertical-align: middle;\n",
       "    }\n",
       "\n",
       "    .dataframe tbody tr th {\n",
       "        vertical-align: top;\n",
       "    }\n",
       "\n",
       "    .dataframe thead th {\n",
       "        text-align: right;\n",
       "    }\n",
       "</style>\n",
       "<table border=\"1\" class=\"dataframe\">\n",
       "  <thead>\n",
       "    <tr style=\"text-align: right;\">\n",
       "      <th></th>\n",
       "      <th>experiment_id</th>\n",
       "      <th>run_id</th>\n",
       "      <th>artifact_uri</th>\n",
       "      <th>tags.mlflow.runName</th>\n",
       "      <th>tags.mlflow.databricks.notebookPath</th>\n",
       "      <th>metrics.test_accuracy_score</th>\n",
       "    </tr>\n",
       "  </thead>\n",
       "  <tbody>\n",
       "    <tr>\n",
       "      <th>0</th>\n",
       "      <td>3791571421799522</td>\n",
       "      <td>5db89e9e42e744019bd5b03224787342</td>\n",
       "      <td>dbfs:/databricks/mlflow-tracking/3791571421799...</td>\n",
       "      <td>ex2</td>\n",
       "      <td>/Repos/fpaulsv@cirsa.com/SocialGames.BricksCon...</td>\n",
       "      <td>0.765625</td>\n",
       "    </tr>\n",
       "    <tr>\n",
       "      <th>1</th>\n",
       "      <td>3791571421799522</td>\n",
       "      <td>c6f1becf84f148cb90b0c05c762fe2d9</td>\n",
       "      <td>dbfs:/databricks/mlflow-tracking/3791571421799...</td>\n",
       "      <td>ex1</td>\n",
       "      <td>/Repos/fpaulsv@cirsa.com/SocialGames.BricksCon...</td>\n",
       "      <td>NaN</td>\n",
       "    </tr>\n",
       "    <tr>\n",
       "      <th>2</th>\n",
       "      <td>3791571421799522</td>\n",
       "      <td>03d4d51215b743779b236f2a904ac693</td>\n",
       "      <td>dbfs:/databricks/mlflow-tracking/3791571421799...</td>\n",
       "      <td>ex1</td>\n",
       "      <td>/Repos/fpaulsv@cirsa.com/SocialGames.BricksCon...</td>\n",
       "      <td>NaN</td>\n",
       "    </tr>\n",
       "    <tr>\n",
       "      <th>3</th>\n",
       "      <td>3791571421799522</td>\n",
       "      <td>9286356beea84969b9bc0a1889050a23</td>\n",
       "      <td>dbfs:/databricks/mlflow-tracking/3791571421799...</td>\n",
       "      <td>mysterious-finch-987</td>\n",
       "      <td>/Repos/fpaulsv@cirsa.com/SocialGames.BricksCon...</td>\n",
       "      <td>NaN</td>\n",
       "    </tr>\n",
       "  </tbody>\n",
       "</table>\n",
       "</div>"
      ],
      "text/plain": [
       "      experiment_id  ... metrics.test_accuracy_score\n",
       "0  3791571421799522  ...                    0.765625\n",
       "1  3791571421799522  ...                         NaN\n",
       "2  3791571421799522  ...                         NaN\n",
       "3  3791571421799522  ...                         NaN\n",
       "\n",
       "[4 rows x 6 columns]"
      ]
     },
     "execution_count": 137,
     "metadata": {},
     "output_type": "execute_result"
    }
   ],
   "source": [
    "\n",
    "# Find experiment ID\n",
    "results = mlflow.search_experiments()\n",
    "records = [vars(experiment) for experiment in results]\n",
    "df = pd.DataFrame.from_records(records)\n",
    "df[['_lifecycle_stage', '_experiment_id', '_name']]\n",
    "\n",
    "# list columns separating per group:\n",
    "# column_groups = { 'metrics': 'metrics.', 'params': 'params.', 'tags': 'tags.' }\n",
    "# grouped_columns = {group: experiments.filter(like=prefix, axis=1).columns.tolist() for group, prefix in column_groups.items()}\n",
    "# for group, columns in grouped_columns.items(): print(columns); print()\n",
    "\n",
    "# List all runs of the experiment\n",
    "experiments = mlflow.search_runs(experiment_ids = [EXPERIMENT_ID] ) # tags.mlflow.runName\t\n",
    "display( experiments[['experiment_id','run_id','artifact_uri','tags.mlflow.runName','tags.mlflow.databricks.notebookPath','metrics.test_accuracy_score']] )\n",
    "\n",
    "# Load model\n",
    "model_loaded = mlflow.pyfunc.load_model('runs:/5db89e9e42e744019bd5b03224787342/model')\n",
    "\n"
   ]
  },
  {
   "cell_type": "code",
   "execution_count": 0,
   "metadata": {
    "application/vnd.databricks.v1+cell": {
     "cellMetadata": {
      "byteLimit": 2048000,
      "rowLimit": 10000
     },
     "inputWidgets": {},
     "nuid": "72bfaf6d-643e-40cb-9e1e-3a06cb96a5d5",
     "showTitle": false,
     "title": ""
    }
   },
   "outputs": [
    {
     "output_type": "stream",
     "name": "stderr",
     "output_type": "stream",
     "text": [
      "Registered model 'FirstModel' already exists. Creating a new version of this model...\n2024/01/14 17:21:16 INFO mlflow.store.model_registry.abstract_store: Waiting up to 300 seconds for model version to finish creation. Model name: FirstModel, version 4\nCreated version '4' of model 'FirstModel'.\n"
     ]
    },
    {
     "output_type": "execute_result",
     "data": {
      "text/plain": [
       "<ModelVersion: aliases=[], creation_timestamp=1705252876297, current_stage='Staging', description='', last_updated_timestamp=1705252882703, name='FirstModel', run_id='', run_link='', source='dbfs:/databricks/mlflow-tracking/3791571421799522/5db89e9e42e744019bd5b03224787342/artifacts/model', status='READY', status_message='', tags={}, user_id='4186803279842908', version='4'>"
      ]
     },
     "execution_count": 148,
     "metadata": {},
     "output_type": "execute_result"
    }
   ],
   "source": [
    "# After you've played in \"Experiments\", Save model in \"Models\"\n",
    "new_model_version = mlflow.register_model(model_uri='dbfs:/databricks/mlflow-tracking/3791571421799522/5db89e9e42e744019bd5b03224787342/artifacts/model'\n",
    "                                          , name='FirstModel')\n",
    "\n",
    "from mlflow.tracking import MlflowClient\n",
    "client = MlflowClient()\n",
    "client.transition_model_version_stage( name='FirstModel', version=new_model_version.version, stage=\"Staging\" )\n"
   ]
  }
 ],
 "metadata": {
  "application/vnd.databricks.v1+notebook": {
   "dashboards": [],
   "language": "python",
   "notebookMetadata": {
    "pythonIndentUnit": 4
   },
   "notebookName": "MLops",
   "widgets": {}
  }
 },
 "nbformat": 4,
 "nbformat_minor": 0
}
