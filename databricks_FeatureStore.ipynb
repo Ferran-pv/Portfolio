{
 "cells": [
  {
   "cell_type": "code",
   "execution_count": 0,
   "metadata": {
    "application/vnd.databricks.v1+cell": {
     "cellMetadata": {
      "byteLimit": 2048000,
      "rowLimit": 10000
     },
     "inputWidgets": {},
     "nuid": "858b5195-cb39-4abe-829e-7b2a74b15561",
     "showTitle": false,
     "title": ""
    }
   },
   "outputs": [],
   "source": [
    "import pandas as pd\n",
    "from databricks import feature_store\n",
    "from databricks.feature_store import FeatureLookup\n",
    "import shap # for df\n",
    "from pyspark.sql import SparkSession\n",
    "spark = SparkSession.builder.appName(\"PandasToSpark\").getOrCreate()\n"
   ]
  },
  {
   "cell_type": "markdown",
   "metadata": {
    "application/vnd.databricks.v1+cell": {
     "cellMetadata": {
      "byteLimit": 2048000,
      "rowLimit": 10000
     },
     "inputWidgets": {},
     "nuid": "399ab5e5-dead-41c1-8a89-dc178adc82de",
     "showTitle": false,
     "title": ""
    }
   },
   "source": [
    "# Read data\n",
    "\n",
    "- SNW connection example."
   ]
  },
  {
   "cell_type": "code",
   "execution_count": 0,
   "metadata": {
    "application/vnd.databricks.v1+cell": {
     "cellMetadata": {
      "byteLimit": 2048000,
      "rowLimit": 10000
     },
     "inputWidgets": {},
     "nuid": "7eb3cc4d-5753-4f38-bb84-8a3e070ed8e3",
     "showTitle": false,
     "title": ""
    }
   },
   "outputs": [],
   "source": [
    "# SNW example\n",
    "# options = {\n",
    "# \"sfUrl\": \"https://dp04782.west-europe.azure.snowflakecomputing.com\",\n",
    "# \"sfUser\": \"es.sgo.saas@cirsa.onmicrosoft.com\",\n",
    "# \"sfPassword\": \"gJu4xkNG7AjNhE1\",\n",
    "# \"sfDatabase\": \"SPACEGO\",\n",
    "# \"sfWarehouse\": \"CONTRIBUTOR_SGO_WH\"\n",
    "# }\n",
    "# # funciona\n",
    "# query = f\"\"\"\n",
    "# select top 10 *\n",
    "# from \"SPACEGO\".\"DEVELOPMENT\".\"TMP_ERIC_MULTICUENTAS\"\n",
    "# \"\"\"\n",
    "# df = spark.read.format(\"snowflake\").options(**options).option(\"query\", query ).load()\n",
    "# df.head(2)\n",
    "\n",
    "\n",
    "# table for ML -> convert to Spark df.\n",
    "df_diabetes = shap.datasets.adult()[0].iloc[:,0:3]\n",
    "df_diabetes['unique_id'] = df_diabetes.index\n",
    "int8_columns = df_diabetes.select_dtypes(include='int8').columns\n",
    "df_diabetes[int8_columns] = df_diabetes[int8_columns].astype('int64')\n",
    "df_diabetes = spark.createDataFrame(df_diabetes)\n"
   ]
  },
  {
   "cell_type": "code",
   "execution_count": 0,
   "metadata": {
    "application/vnd.databricks.v1+cell": {
     "cellMetadata": {
      "byteLimit": 2048000,
      "rowLimit": 10000
     },
     "inputWidgets": {},
     "nuid": "ad73a4ec-f47c-4e27-9654-db379a9cb88e",
     "showTitle": false,
     "title": ""
    }
   },
   "outputs": [
    {
     "output_type": "stream",
     "name": "stderr",
     "output_type": "stream",
     "text": [
      "2024/01/17 10:59:50 INFO databricks.feature_store._compute_client._compute_client: Created feature table 'hive_metastore.folder.df_health'.\n"
     ]
    }
   ],
   "source": [
    "# Before creating any feature tables, you must create a database to store them.\n",
    "database_name = 'folder'\n",
    "spark.sql(f\"CREATE DATABASE IF NOT EXISTS {database_name}\")\n",
    "\n",
    "# Save table in folder\n",
    "customer_feature_table = feature_store.FeatureStoreClient().create_table(\n",
    "  name='folder.df_health', primary_keys=['unique_id'],\n",
    "  schema=df_diabetes.schema, df = df_diabetes, description='Health dataframe'\n",
    ")\n",
    "\n",
    "# Now in UI you con go to \"Features\" and schedule a job!"
   ]
  },
  {
   "cell_type": "code",
   "execution_count": 0,
   "metadata": {
    "application/vnd.databricks.v1+cell": {
     "cellMetadata": {
      "byteLimit": 2048000,
      "rowLimit": 10000
     },
     "inputWidgets": {},
     "nuid": "4cdb7e8a-0d78-4676-bac2-44686d41c118",
     "showTitle": false,
     "title": ""
    }
   },
   "outputs": [
    {
     "output_type": "display_data",
     "data": {
      "text/plain": [
       "<FeatureLookup: feature_name=None, lookback_window=None, lookup_key='unique_id', output_name=None, table_name='folder.DiabetesKPI', timestamp_lookup_key=None>"
      ]
     },
     "metadata": {},
     "output_type": "display_data"
    }
   ],
   "source": [
    "\n",
    "load_df = spark.sql(\"SELECT * FROM folder.df_health\")\n",
    "load_df.show(10)"
   ]
  }
 ],
 "metadata": {
  "application/vnd.databricks.v1+notebook": {
   "dashboards": [],
   "language": "python",
   "notebookMetadata": {
    "pythonIndentUnit": 4
   },
   "notebookName": "Feature Store",
   "widgets": {}
  }
 },
 "nbformat": 4,
 "nbformat_minor": 0
}
